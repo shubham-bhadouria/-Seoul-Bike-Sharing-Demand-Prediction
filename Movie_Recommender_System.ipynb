{
  "nbformat": 4,
  "nbformat_minor": 0,
  "metadata": {
    "colab": {
      "name": "Movie Recommender System.ipynb",
      "provenance": [],
      "collapsed_sections": [],
      "mount_file_id": "1n2MfCmG8vHwu14kgzeRg-1Nig5Rq56i1",
      "authorship_tag": "ABX9TyOdItzxlWtgM0uTT1riBE0x",
      "include_colab_link": true
    },
    "kernelspec": {
      "name": "python3",
      "display_name": "Python 3"
    },
    "language_info": {
      "name": "python"
    }
  },
  "cells": [
    {
      "cell_type": "markdown",
      "metadata": {
        "id": "view-in-github",
        "colab_type": "text"
      },
      "source": [
        "<a href=\"https://colab.research.google.com/github/shubham-bhadouria/-Seoul-Bike-Sharing-Demand-Prediction/blob/main/Movie_Recommender_System.ipynb\" target=\"_parent\"><img src=\"https://colab.research.google.com/assets/colab-badge.svg\" alt=\"Open In Colab\"/></a>"
      ]
    },
    {
      "cell_type": "code",
      "source": [
        "# Importing all libraries\n",
        "import pandas as pd\n",
        "import numpy as np\n",
        "import matplotlib.pyplot as plt\n",
        "import seaborn as sns\n",
        "% matplotlib inline\n",
        "import warnings\n",
        "warnings.filterwarnings(\"ignore\", category=FutureWarning)"
      ],
      "metadata": {
        "id": "MV1bd-ZvUjoE"
      },
      "execution_count": 2,
      "outputs": []
    },
    {
      "cell_type": "markdown",
      "source": [
        "# **Importing Dataset**"
      ],
      "metadata": {
        "id": "0Ys1DY1JXA82"
      }
    },
    {
      "cell_type": "code",
      "source": [
        "books = pd.read_csv('/content/drive/MyDrive/Book Recommender System - Shubham Bhadouria/Copy of Books.csv')\n",
        "ratings = pd.read_csv('/content/drive/MyDrive/Book Recommender System - Shubham Bhadouria/Copy of Ratings.csv')\n",
        "users = pd.read_csv('/content/drive/MyDrive/Book Recommender System - Shubham Bhadouria/Copy of Users.csv')"
      ],
      "metadata": {
        "id": "8OkDuQe-VYmN"
      },
      "execution_count": null,
      "outputs": []
    },
    {
      "cell_type": "markdown",
      "source": [
        "# **Dataset Overview**\n",
        "**1.** **Books dataset**"
      ],
      "metadata": {
        "id": "sRw8LmDsXWMu"
      }
    },
    {
      "cell_type": "code",
      "source": [
        "#Checking number of rows and columns in books dataset.\n",
        "print(f' The number of rows are {books.shape[0]}')\n",
        "print(f' The number of columns are {books.shape[1]}')"
      ],
      "metadata": {
        "colab": {
          "base_uri": "https://localhost:8080/"
        },
        "id": "BJ_TI6JNV4QT",
        "outputId": "08dd49d5-3294-48b2-a31c-1be6252004f4"
      },
      "execution_count": 8,
      "outputs": [
        {
          "output_type": "stream",
          "name": "stdout",
          "text": [
            " The number of rows are 271360\n",
            " The number of columns are 8\n"
          ]
        }
      ]
    }
  ]
}